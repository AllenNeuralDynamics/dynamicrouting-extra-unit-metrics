{
 "cells": [
  {
   "cell_type": "code",
   "execution_count": 15,
   "id": "d80faa45-8f4b-48ec-a25c-32db885b5c3a",
   "metadata": {
    "tags": []
   },
   "outputs": [],
   "source": [
    "import polars as pl\n",
    "import pathlib\n",
    "\n",
    "files = tuple(pathlib.Path('/data/ks4').rglob('*.parquet'))\n",
    "dfs = [pl.read_parquet(f) for f in files]"
   ]
  },
  {
   "cell_type": "code",
   "execution_count": 31,
   "id": "4aaf8264-cd0e-4504-ac5c-21ccb86a6fc0",
   "metadata": {
    "tags": []
   },
   "outputs": [
    {
     "data": {
      "text/plain": [
       "set()"
      ]
     },
     "execution_count": 31,
     "metadata": {},
     "output_type": "execute_result"
    }
   ],
   "source": [
    "set(dfs[1].columns) ^ common_cols"
   ]
  },
  {
   "cell_type": "code",
   "execution_count": 36,
   "id": "f83cae00-0b4b-43dd-b515-efb59f670f8a",
   "metadata": {
    "tags": []
   },
   "outputs": [
    {
     "data": {
      "text/html": [
       "<div><style>\n",
       ".dataframe > thead > tr,\n",
       ".dataframe > tbody > tr {\n",
       "  text-align: right;\n",
       "  white-space: pre-wrap;\n",
       "}\n",
       "</style>\n",
       "<small>shape: (6_442, 57)</small><table border=\"1\" class=\"dataframe\"><thead><tr><th>amplitude_median</th><th>num_spikes</th><th>num_negative_peaks</th><th>presence_ratio</th><th>depth</th><th>decoder_label</th><th>sliding_rp_violation</th><th>num_positive_peaks</th><th>shank</th><th>isi_violations_count</th><th>estimated_z</th><th>id</th><th>recovery_slope</th><th>silhouette</th><th>rp_violations</th><th>half_width</th><th>sync_spike_4</th><th>drift_std</th><th>peak_to_valley</th><th>sync_spike_8</th><th>estimated_x</th><th>rp_contamination</th><th>unit_name</th><th>d_prime</th><th>sync_spike_2</th><th>snr</th><th>nn_miss_rate</th><th>firing_rate</th><th>l_ratio</th><th>firing_range</th><th>device_name</th><th>drift_mad</th><th>peak_trough_ratio</th><th>spread</th><th>isolation_distance</th><th>default_qc</th><th>amplitude_cv_median</th><th>amplitude_cv_range</th><th>decoder_probability</th><th>drift_ptp</th><th>estimated_y</th><th>exp_decay</th><th>velocity_below</th><th>isi_violations_ratio</th><th>repolarization_slope</th><th>amplitude</th><th>amplitude_cutoff</th><th>nn_hit_rate</th><th>velocity_above</th><th>ks_unit_id</th><th>original_cluster_id</th><th>_nwb_path</th><th>_table_path</th><th>_table_index</th><th>spike_times</th><th>session_id</th><th>unit_id</th></tr><tr><td>f32</td><td>i64</td><td>i64</td><td>f64</td><td>f64</td><td>str</td><td>f64</td><td>i64</td><td>str</td><td>i64</td><td>f64</td><td>i64</td><td>f64</td><td>f64</td><td>i64</td><td>f64</td><td>f64</td><td>f64</td><td>f64</td><td>f64</td><td>f64</td><td>f64</td><td>str</td><td>f64</td><td>f64</td><td>f64</td><td>f64</td><td>f64</td><td>f64</td><td>f64</td><td>str</td><td>f64</td><td>f64</td><td>i64</td><td>f64</td><td>bool</td><td>f64</td><td>f64</td><td>f64</td><td>f64</td><td>f64</td><td>f64</td><td>f64</td><td>f64</td><td>f64</td><td>f64</td><td>f64</td><td>f64</td><td>f64</td><td>i64</td><td>i64</td><td>str</td><td>str</td><td>i64</td><td>list[f64]</td><td>str</td><td>str</td></tr></thead><tbody><tr><td>-14.039999</td><td>27583</td><td>2</td><td>1.0</td><td>32.25</td><td>&quot;noise&quot;</td><td>0.055</td><td>1</td><td>&quot;&quot;</td><td>169</td><td>42.43</td><td>1344</td><td>-3129.917135</td><td>0.015041</td><td>16</td><td>0.00048</td><td>0.016169</td><td>0.0</td><td>0.000673</td><td>0.000145</td><td>24.3</td><td>0.084797</td><td>&quot;a1cf2585-9d96-4698-9c2a-3caca6…</td><td>2.585703</td><td>0.204619</td><td>1.081612</td><td>0.039926</td><td>3.57176</td><td>0.706631</td><td>8.2</td><td>&quot;ProbeF&quot;</td><td>0.0</td><td>-0.269033</td><td>100</td><td>66.802615</td><td>false</td><td>1.061929</td><td>0.413967</td><td>0.896454</td><td>0.0</td><td>32.25</td><td>0.008277</td><td>null</td><td>0.571797</td><td>41949.137943</td><td>47.53</td><td>0.000028</td><td>0.377333</td><td>null</td><td>0</td><td>0</td><td>&quot;/data/ecephys_742903_2024-10-2…</td><td>&quot;/units&quot;</td><td>1344</td><td>[21.117701, 21.263301, … 7742.666758]</td><td>&quot;742903_2024-10-22_ks4&quot;</td><td>&quot;742903_2024-10-22_ks4_F-0_ks4&quot;</td></tr><tr><td>-23.4</td><td>18295</td><td>1</td><td>1.0</td><td>29.43</td><td>&quot;noise&quot;</td><td>0.295</td><td>2</td><td>&quot;&quot;</td><td>147</td><td>28.49</td><td>1345</td><td>-6908.387504</td><td>0.019162</td><td>83</td><td>0.000343</td><td>0.015797</td><td>0.0</td><td>0.000603</td><td>0.000219</td><td>18.9</td><td>1.0</td><td>&quot;0c08c3bf-b845-45b6-81ee-984133…</td><td>2.879125</td><td>0.194862</td><td>1.487385</td><td>0.03963</td><td>2.369044</td><td>0.594706</td><td>6.2</td><td>&quot;ProbeF&quot;</td><td>0.0</td><td>-0.243837</td><td>100</td><td>68.68126</td><td>false</td><td>0.726049</td><td>0.270212</td><td>0.672451</td><td>0.0</td><td>29.43</td><td>0.014004</td><td>null</td><td>1.130552</td><td>75383.874204</td><td>53.1</td><td>0.000052</td><td>0.488</td><td>null</td><td>1</td><td>1</td><td>&quot;/data/ecephys_742903_2024-10-2…</td><td>&quot;/units&quot;</td><td>1345</td><td>[21.248468, 21.387269, … 7742.789725]</td><td>&quot;742903_2024-10-22_ks4&quot;</td><td>&quot;742903_2024-10-22_ks4_F-1_ks4&quot;</td></tr><tr><td>-32.759998</td><td>35133</td><td>1</td><td>1.0</td><td>28.1</td><td>&quot;mua&quot;</td><td>0.095</td><td>1</td><td>&quot;&quot;</td><td>141</td><td>27.28</td><td>1346</td><td>-31210.438398</td><td>0.022375</td><td>41</td><td>0.00026</td><td>0.00814</td><td>2.797191</td><td>0.000513</td><td>0.000199</td><td>13.52</td><td>0.137744</td><td>&quot;46b2e908-0df7-4994-ab32-441359…</td><td>3.703933</td><td>0.14132</td><td>2.047211</td><td>0.027067</td><td>4.54942</td><td>0.23873</td><td>7.6</td><td>&quot;ProbeF&quot;</td><td>1.611472</td><td>-0.487829</td><td>120</td><td>97.884547</td><td>true</td><td>0.509889</td><td>0.215345</td><td>0.831334</td><td>12.21608</td><td>28.1</td><td>0.015753</td><td>null</td><td>0.294054</td><td>145803.399295</td><td>52.47</td><td>0.00005</td><td>0.511333</td><td>null</td><td>2</td><td>2</td><td>&quot;/data/ecephys_742903_2024-10-2…</td><td>&quot;/units&quot;</td><td>1346</td><td>[20.356298, 20.804933, … 7742.756225]</td><td>&quot;742903_2024-10-22_ks4&quot;</td><td>&quot;742903_2024-10-22_ks4_F-2_ks4&quot;</td></tr><tr><td>-11.699999</td><td>14370</td><td>2</td><td>1.0</td><td>55.37</td><td>&quot;noise&quot;</td><td>0.045</td><td>1</td><td>&quot;&quot;</td><td>19</td><td>31.23</td><td>1347</td><td>-2940.681039</td><td>0.027022</td><td>1</td><td>0.000487</td><td>0.005289</td><td>0.0</td><td>0.000657</td><td>0.0</td><td>5.22</td><td>0.018877</td><td>&quot;cf1c257b-c2b2-4ffd-88bb-c0c8fe…</td><td>2.686681</td><td>0.153723</td><td>0.9656</td><td>0.005641</td><td>1.860791</td><td>0.749075</td><td>3.6</td><td>&quot;ProbeF&quot;</td><td>0.0</td><td>-0.313136</td><td>160</td><td>97.820841</td><td>true</td><td>1.421456</td><td>0.505606</td><td>0.92666</td><td>0.0</td><td>55.37</td><td>null</td><td>null</td><td>0.236853</td><td>40878.768968</td><td>47.75</td><td>0.000046</td><td>0.248</td><td>null</td><td>3</td><td>3</td><td>&quot;/data/ecephys_742903_2024-10-2…</td><td>&quot;/units&quot;</td><td>1347</td><td>[20.8558, 21.243301, … 7741.996589]</td><td>&quot;742903_2024-10-22_ks4&quot;</td><td>&quot;742903_2024-10-22_ks4_F-3_ks4&quot;</td></tr><tr><td>-23.4</td><td>20424</td><td>1</td><td>1.0</td><td>62.52</td><td>&quot;noise&quot;</td><td>null</td><td>1</td><td>&quot;&quot;</td><td>206</td><td>36.71</td><td>1348</td><td>-7058.239783</td><td>0.032855</td><td>123</td><td>0.000333</td><td>0.019046</td><td>0.0</td><td>0.000587</td><td>0.000294</td><td>20.53</td><td>1.0</td><td>&quot;9d668238-25e1-4767-962e-84b6bb…</td><td>2.424459</td><td>0.209068</td><td>1.189575</td><td>0.007333</td><td>2.644731</td><td>1.312698</td><td>7.0</td><td>&quot;ProbeF&quot;</td><td>0.0</td><td>-0.214127</td><td>140</td><td>80.069132</td><td>false</td><td>0.818673</td><td>0.360725</td><td>0.626897</td><td>0.0</td><td>62.52</td><td>0.01487</td><td>null</td><td>1.271228</td><td>74673.839161</td><td>51.45</td><td>0.000048</td><td>0.330667</td><td>null</td><td>4</td><td>4</td><td>&quot;/data/ecephys_742903_2024-10-2…</td><td>&quot;/units&quot;</td><td>1348</td><td>[20.849166, 21.244901, … 7742.543058]</td><td>&quot;742903_2024-10-22_ks4&quot;</td><td>&quot;742903_2024-10-22_ks4_F-4_ks4&quot;</td></tr><tr><td>&hellip;</td><td>&hellip;</td><td>&hellip;</td><td>&hellip;</td><td>&hellip;</td><td>&hellip;</td><td>&hellip;</td><td>&hellip;</td><td>&hellip;</td><td>&hellip;</td><td>&hellip;</td><td>&hellip;</td><td>&hellip;</td><td>&hellip;</td><td>&hellip;</td><td>&hellip;</td><td>&hellip;</td><td>&hellip;</td><td>&hellip;</td><td>&hellip;</td><td>&hellip;</td><td>&hellip;</td><td>&hellip;</td><td>&hellip;</td><td>&hellip;</td><td>&hellip;</td><td>&hellip;</td><td>&hellip;</td><td>&hellip;</td><td>&hellip;</td><td>&hellip;</td><td>&hellip;</td><td>&hellip;</td><td>&hellip;</td><td>&hellip;</td><td>&hellip;</td><td>&hellip;</td><td>&hellip;</td><td>&hellip;</td><td>&hellip;</td><td>&hellip;</td><td>&hellip;</td><td>&hellip;</td><td>&hellip;</td><td>&hellip;</td><td>&hellip;</td><td>&hellip;</td><td>&hellip;</td><td>&hellip;</td><td>&hellip;</td><td>&hellip;</td><td>&hellip;</td><td>&hellip;</td><td>&hellip;</td><td>&hellip;</td><td>&hellip;</td><td>&hellip;</td></tr><tr><td>-152.099991</td><td>39</td><td>0</td><td>0.0859375</td><td>3304.47</td><td>&quot;noise&quot;</td><td>null</td><td>0</td><td>null</td><td>0</td><td>108.97</td><td>895</td><td>-44770.539923</td><td>0.01626</td><td>0</td><td>0.000067</td><td>0.846154</td><td>null</td><td>0.000717</td><td>0.102564</td><td>-53.29</td><td>0.0</td><td>&quot;f6742357-79e8-4fb9-a8f9-60c53e…</td><td>4.860131</td><td>0.974359</td><td>11.738717</td><td>0.007494</td><td>0.005045</td><td>null</td><td>0.0</td><td>&quot;ProbeE&quot;</td><td>null</td><td>-0.196899</td><td>160</td><td>6.9255e15</td><td>false</td><td>null</td><td>null</td><td>0.541831</td><td>null</td><td>3304.47</td><td>0.006483</td><td>null</td><td>0.0</td><td>801975.719893</td><td>196.26</td><td>null</td><td>0.205128</td><td>null</td><td>614</td><td>614</td><td>&quot;/data/ecephys_742903_2024-10-2…</td><td>&quot;/units&quot;</td><td>895</td><td>[929.406613, 950.607892, … 7748.083013]</td><td>&quot;742903_2024-10-21_ks4&quot;</td><td>&quot;742903_2024-10-21_ks4_E-614_ks…</td></tr><tr><td>-23.4</td><td>88254</td><td>2</td><td>1.0</td><td>3790.37</td><td>&quot;noise&quot;</td><td>0.01</td><td>2</td><td>null</td><td>126</td><td>1.0</td><td>896</td><td>-35293.042662</td><td>0.044335</td><td>12</td><td>0.00038</td><td>0.000963</td><td>1.239135</td><td>0.000627</td><td>0.000091</td><td>35.74</td><td>0.005973</td><td>&quot;0b7ca201-56db-42b5-b956-0fc9c1…</td><td>3.270154</td><td>0.111315</td><td>1.844729</td><td>0.008074</td><td>11.417144</td><td>0.467971</td><td>7.32</td><td>&quot;ProbeE&quot;</td><td>1.027811</td><td>-0.655081</td><td>80</td><td>82.873674</td><td>true</td><td>0.445004</td><td>0.182717</td><td>0.613767</td><td>4.964233</td><td>3790.37</td><td>0.035859</td><td>null</td><td>0.041683</td><td>87468.355912</td><td>42.34</td><td>0.000032</td><td>0.142</td><td>null</td><td>615</td><td>615</td><td>&quot;/data/ecephys_742903_2024-10-2…</td><td>&quot;/units&quot;</td><td>896</td><td>[20.009582, 20.034316, … 7749.839895]</td><td>&quot;742903_2024-10-21_ks4&quot;</td><td>&quot;742903_2024-10-21_ks4_E-615_ks…</td></tr><tr><td>-14.039999</td><td>89623</td><td>4</td><td>1.0</td><td>3789.66</td><td>&quot;noise&quot;</td><td>0.01</td><td>1</td><td>null</td><td>125</td><td>1.0</td><td>897</td><td>-8623.574652</td><td>0.044942</td><td>19</td><td>0.00052</td><td>0.001852</td><td>0.759942</td><td>0.00126</td><td>0.000402</td><td>34.9</td><td>0.009185</td><td>&quot;dd2dfc60-6e9f-4684-ad52-b92bca…</td><td>3.088377</td><td>0.14426</td><td>1.355388</td><td>0.006148</td><td>11.594248</td><td>0.458773</td><td>7.2</td><td>&quot;ProbeE&quot;</td><td>0.095374</td><td>-0.259295</td><td>80</td><td>84.579955</td><td>true</td><td>0.725253</td><td>0.270815</td><td>0.672134</td><td>4.05127</td><td>3789.66</td><td>0.040115</td><td>null</td><td>0.040098</td><td>38847.593296</td><td>44.12</td><td>0.000174</td><td>0.175333</td><td>null</td><td>616</td><td>616</td><td>&quot;/data/ecephys_742903_2024-10-2…</td><td>&quot;/units&quot;</td><td>897</td><td>[19.955049, 19.994916, … 7749.883829]</td><td>&quot;742903_2024-10-21_ks4&quot;</td><td>&quot;742903_2024-10-21_ks4_E-616_ks…</td></tr><tr><td>-39.779999</td><td>47362</td><td>1</td><td>1.0</td><td>3817.04</td><td>&quot;mua&quot;</td><td>0.07</td><td>1</td><td>null</td><td>271</td><td>1.0</td><td>898</td><td>-40226.142113</td><td>0.049077</td><td>85</td><td>0.00024</td><td>0.004117</td><td>2.522153</td><td>0.00048</td><td>0.000021</td><td>43.67</td><td>0.159114</td><td>&quot;505bc24e-be8e-4a59-ac07-6575ac…</td><td>3.050918</td><td>0.143279</td><td>2.37906</td><td>0.110833</td><td>6.127074</td><td>0.104193</td><td>9.0</td><td>&quot;ProbeE&quot;</td><td>2.406921</td><td>-0.489148</td><td>80</td><td>85.577019</td><td>true</td><td>0.364539</td><td>0.1673</td><td>0.7</td><td>9.523071</td><td>3817.04</td><td>0.045947</td><td>-266.955134</td><td>0.31129</td><td>184770.182879</td><td>61.3</td><td>0.000021</td><td>0.605333</td><td>null</td><td>617</td><td>617</td><td>&quot;/data/ecephys_742903_2024-10-2…</td><td>&quot;/units&quot;</td><td>898</td><td>[20.046916, 20.052716, … 7749.333124]</td><td>&quot;742903_2024-10-21_ks4&quot;</td><td>&quot;742903_2024-10-21_ks4_E-617_ks…</td></tr><tr><td>-18.719999</td><td>45960</td><td>2</td><td>1.0</td><td>3816.03</td><td>&quot;noise&quot;</td><td>0.08</td><td>1</td><td>null</td><td>227</td><td>2.92</td><td>899</td><td>-895.482991</td><td>0.051681</td><td>62</td><td>0.00044</td><td>0.004547</td><td>1378.036825</td><td>0.000823</td><td>0.000827</td><td>42.87</td><td>0.120731</td><td>&quot;a3ac4c8d-0c26-4883-be4c-8e2675…</td><td>3.518928</td><td>0.166928</td><td>1.16309</td><td>0.057</td><td>5.945702</td><td>0.095801</td><td>8.36</td><td>&quot;ProbeE&quot;</td><td>606.191452</td><td>-0.254056</td><td>80</td><td>100.475036</td><td>true</td><td>0.947352</td><td>0.343498</td><td>0.708801</td><td>3785.0</td><td>3816.03</td><td>0.039289</td><td>null</td><td>0.276899</td><td>48195.422341</td><td>57.55</td><td>0.000012</td><td>0.689333</td><td>null</td><td>618</td><td>618</td><td>&quot;/data/ecephys_742903_2024-10-2…</td><td>&quot;/units&quot;</td><td>899</td><td>[20.042749, 20.072383, … 7749.852162]</td><td>&quot;742903_2024-10-21_ks4&quot;</td><td>&quot;742903_2024-10-21_ks4_E-618_ks…</td></tr></tbody></table></div>"
      ],
      "text/plain": [
       "shape: (6_442, 57)\n",
       "┌───────────┬───────────┬───────────┬───────────┬───┬───────────┬───────────┬───────────┬──────────┐\n",
       "│ amplitude ┆ num_spike ┆ num_negat ┆ presence_ ┆ … ┆ _table_in ┆ spike_tim ┆ session_i ┆ unit_id  │\n",
       "│ _median   ┆ s         ┆ ive_peaks ┆ ratio     ┆   ┆ dex       ┆ es        ┆ d         ┆ ---      │\n",
       "│ ---       ┆ ---       ┆ ---       ┆ ---       ┆   ┆ ---       ┆ ---       ┆ ---       ┆ str      │\n",
       "│ f32       ┆ i64       ┆ i64       ┆ f64       ┆   ┆ i64       ┆ list[f64] ┆ str       ┆          │\n",
       "╞═══════════╪═══════════╪═══════════╪═══════════╪═══╪═══════════╪═══════════╪═══════════╪══════════╡\n",
       "│ -14.03999 ┆ 27583     ┆ 2         ┆ 1.0       ┆ … ┆ 1344      ┆ [21.11770 ┆ 742903_20 ┆ 742903_2 │\n",
       "│ 9         ┆           ┆           ┆           ┆   ┆           ┆ 1, 21.263 ┆ 24-10-22_ ┆ 024-10-2 │\n",
       "│           ┆           ┆           ┆           ┆   ┆           ┆ 301, …    ┆ ks4       ┆ 2_ks4_F- │\n",
       "│           ┆           ┆           ┆           ┆   ┆           ┆ 7742.…    ┆           ┆ 0_ks4    │\n",
       "│ -23.4     ┆ 18295     ┆ 1         ┆ 1.0       ┆ … ┆ 1345      ┆ [21.24846 ┆ 742903_20 ┆ 742903_2 │\n",
       "│           ┆           ┆           ┆           ┆   ┆           ┆ 8, 21.387 ┆ 24-10-22_ ┆ 024-10-2 │\n",
       "│           ┆           ┆           ┆           ┆   ┆           ┆ 269, …    ┆ ks4       ┆ 2_ks4_F- │\n",
       "│           ┆           ┆           ┆           ┆   ┆           ┆ 7742.…    ┆           ┆ 1_ks4    │\n",
       "│ -32.75999 ┆ 35133     ┆ 1         ┆ 1.0       ┆ … ┆ 1346      ┆ [20.35629 ┆ 742903_20 ┆ 742903_2 │\n",
       "│ 8         ┆           ┆           ┆           ┆   ┆           ┆ 8, 20.804 ┆ 24-10-22_ ┆ 024-10-2 │\n",
       "│           ┆           ┆           ┆           ┆   ┆           ┆ 933, …    ┆ ks4       ┆ 2_ks4_F- │\n",
       "│           ┆           ┆           ┆           ┆   ┆           ┆ 7742.…    ┆           ┆ 2_ks4    │\n",
       "│ -11.69999 ┆ 14370     ┆ 2         ┆ 1.0       ┆ … ┆ 1347      ┆ [20.8558, ┆ 742903_20 ┆ 742903_2 │\n",
       "│ 9         ┆           ┆           ┆           ┆   ┆           ┆ 21.243301 ┆ 24-10-22_ ┆ 024-10-2 │\n",
       "│           ┆           ┆           ┆           ┆   ┆           ┆ , …       ┆ ks4       ┆ 2_ks4_F- │\n",
       "│           ┆           ┆           ┆           ┆   ┆           ┆ 7741.99…  ┆           ┆ 3_ks4    │\n",
       "│ -23.4     ┆ 20424     ┆ 1         ┆ 1.0       ┆ … ┆ 1348      ┆ [20.84916 ┆ 742903_20 ┆ 742903_2 │\n",
       "│           ┆           ┆           ┆           ┆   ┆           ┆ 6, 21.244 ┆ 24-10-22_ ┆ 024-10-2 │\n",
       "│           ┆           ┆           ┆           ┆   ┆           ┆ 901, …    ┆ ks4       ┆ 2_ks4_F- │\n",
       "│           ┆           ┆           ┆           ┆   ┆           ┆ 7742.…    ┆           ┆ 4_ks4    │\n",
       "│ …         ┆ …         ┆ …         ┆ …         ┆ … ┆ …         ┆ …         ┆ …         ┆ …        │\n",
       "│ -152.0999 ┆ 39        ┆ 0         ┆ 0.0859375 ┆ … ┆ 895       ┆ [929.4066 ┆ 742903_20 ┆ 742903_2 │\n",
       "│ 91        ┆           ┆           ┆           ┆   ┆           ┆ 13, 950.6 ┆ 24-10-21_ ┆ 024-10-2 │\n",
       "│           ┆           ┆           ┆           ┆   ┆           ┆ 07892, …  ┆ ks4       ┆ 1_ks4_E- │\n",
       "│           ┆           ┆           ┆           ┆   ┆           ┆ 774…      ┆           ┆ 614_ks…  │\n",
       "│ -23.4     ┆ 88254     ┆ 2         ┆ 1.0       ┆ … ┆ 896       ┆ [20.00958 ┆ 742903_20 ┆ 742903_2 │\n",
       "│           ┆           ┆           ┆           ┆   ┆           ┆ 2, 20.034 ┆ 24-10-21_ ┆ 024-10-2 │\n",
       "│           ┆           ┆           ┆           ┆   ┆           ┆ 316, …    ┆ ks4       ┆ 1_ks4_E- │\n",
       "│           ┆           ┆           ┆           ┆   ┆           ┆ 7749.…    ┆           ┆ 615_ks…  │\n",
       "│ -14.03999 ┆ 89623     ┆ 4         ┆ 1.0       ┆ … ┆ 897       ┆ [19.95504 ┆ 742903_20 ┆ 742903_2 │\n",
       "│ 9         ┆           ┆           ┆           ┆   ┆           ┆ 9, 19.994 ┆ 24-10-21_ ┆ 024-10-2 │\n",
       "│           ┆           ┆           ┆           ┆   ┆           ┆ 916, …    ┆ ks4       ┆ 1_ks4_E- │\n",
       "│           ┆           ┆           ┆           ┆   ┆           ┆ 7749.…    ┆           ┆ 616_ks…  │\n",
       "│ -39.77999 ┆ 47362     ┆ 1         ┆ 1.0       ┆ … ┆ 898       ┆ [20.04691 ┆ 742903_20 ┆ 742903_2 │\n",
       "│ 9         ┆           ┆           ┆           ┆   ┆           ┆ 6, 20.052 ┆ 24-10-21_ ┆ 024-10-2 │\n",
       "│           ┆           ┆           ┆           ┆   ┆           ┆ 716, …    ┆ ks4       ┆ 1_ks4_E- │\n",
       "│           ┆           ┆           ┆           ┆   ┆           ┆ 7749.…    ┆           ┆ 617_ks…  │\n",
       "│ -18.71999 ┆ 45960     ┆ 2         ┆ 1.0       ┆ … ┆ 899       ┆ [20.04274 ┆ 742903_20 ┆ 742903_2 │\n",
       "│ 9         ┆           ┆           ┆           ┆   ┆           ┆ 9, 20.072 ┆ 24-10-21_ ┆ 024-10-2 │\n",
       "│           ┆           ┆           ┆           ┆   ┆           ┆ 383, …    ┆ ks4       ┆ 1_ks4_E- │\n",
       "│           ┆           ┆           ┆           ┆   ┆           ┆ 7749.…    ┆           ┆ 618_ks…  │\n",
       "└───────────┴───────────┴───────────┴───────────┴───┴───────────┴───────────┴───────────┴──────────┘"
      ]
     },
     "execution_count": 36,
     "metadata": {},
     "output_type": "execute_result"
    }
   ],
   "source": [
    "common_cols = set.intersection(*[set(df.columns) for df in dfs])\n",
    "pl.concat(dfs, how='diagonal_relaxed').drop('spike_times')"
   ]
  }
 ],
 "metadata": {
  "kernelspec": {
   "display_name": "Python 3 (ipykernel)",
   "language": "python",
   "name": "python3"
  },
  "language_info": {
   "codemirror_mode": {
    "name": "ipython",
    "version": 3
   },
   "file_extension": ".py",
   "mimetype": "text/x-python",
   "name": "python",
   "nbconvert_exporter": "python",
   "pygments_lexer": "ipython3",
   "version": "3.10.12"
  }
 },
 "nbformat": 4,
 "nbformat_minor": 5
}
